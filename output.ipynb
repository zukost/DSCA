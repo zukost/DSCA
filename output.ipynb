{
 "cells": [
  {
   "cell_type": "code",
   "execution_count": 2,
   "metadata": {},
   "outputs": [],
   "source": [
    "import h5py"
   ]
  },
  {
   "cell_type": "code",
   "execution_count": 3,
   "metadata": {},
   "outputs": [
    {
     "name": "stdout",
     "output_type": "stream",
     "text": [
      "Keys: <KeysViewHDF5 ['model_weights', 'optimizer_weights']>\n",
      "['conv2d', 'conv2d_1', 'conv2d_2', 'dense', 'dense_1', 'dropout', 'flatten', 'max_pooling2d', 'max_pooling2d_1', 'max_pooling2d_2', 'rescaling_1', 'sequential']\n"
     ]
    }
   ],
   "source": [
    "file = 'gender_classification_v1.h5'\n",
    "with h5py.File(file, 'r') as f:\n",
    "    # List all groups\n",
    "    print(\"Keys: %s\" % f.keys())\n",
    "    a_group_key = list(f.keys())[0]\n",
    "\n",
    "    # Get the data\n",
    "    data = list(f[a_group_key])\n",
    "    print(data)"
   ]
  },
  {
   "cell_type": "code",
   "execution_count": 5,
   "metadata": {},
   "outputs": [
    {
     "name": "stdout",
     "output_type": "stream",
     "text": [
      "model_weights <class 'h5py._hl.group.Group'>\n",
      "model_weights/conv2d <class 'h5py._hl.group.Group'>\n",
      "model_weights/conv2d/conv2d <class 'h5py._hl.group.Group'>\n",
      "model_weights/conv2d/conv2d/bias:0 <class 'h5py._hl.dataset.Dataset'>\n",
      "model_weights/conv2d/conv2d/kernel:0 <class 'h5py._hl.dataset.Dataset'>\n",
      "model_weights/conv2d_1 <class 'h5py._hl.group.Group'>\n",
      "model_weights/conv2d_1/conv2d_1 <class 'h5py._hl.group.Group'>\n",
      "model_weights/conv2d_1/conv2d_1/bias:0 <class 'h5py._hl.dataset.Dataset'>\n",
      "model_weights/conv2d_1/conv2d_1/kernel:0 <class 'h5py._hl.dataset.Dataset'>\n",
      "model_weights/conv2d_2 <class 'h5py._hl.group.Group'>\n",
      "model_weights/conv2d_2/conv2d_2 <class 'h5py._hl.group.Group'>\n",
      "model_weights/conv2d_2/conv2d_2/bias:0 <class 'h5py._hl.dataset.Dataset'>\n",
      "model_weights/conv2d_2/conv2d_2/kernel:0 <class 'h5py._hl.dataset.Dataset'>\n",
      "model_weights/dense <class 'h5py._hl.group.Group'>\n",
      "model_weights/dense/dense <class 'h5py._hl.group.Group'>\n",
      "model_weights/dense/dense/bias:0 <class 'h5py._hl.dataset.Dataset'>\n",
      "model_weights/dense/dense/kernel:0 <class 'h5py._hl.dataset.Dataset'>\n",
      "model_weights/dense_1 <class 'h5py._hl.group.Group'>\n",
      "model_weights/dense_1/dense_1 <class 'h5py._hl.group.Group'>\n",
      "model_weights/dense_1/dense_1/bias:0 <class 'h5py._hl.dataset.Dataset'>\n",
      "model_weights/dense_1/dense_1/kernel:0 <class 'h5py._hl.dataset.Dataset'>\n",
      "model_weights/dropout <class 'h5py._hl.group.Group'>\n",
      "model_weights/flatten <class 'h5py._hl.group.Group'>\n",
      "model_weights/max_pooling2d <class 'h5py._hl.group.Group'>\n",
      "model_weights/max_pooling2d_1 <class 'h5py._hl.group.Group'>\n",
      "model_weights/max_pooling2d_2 <class 'h5py._hl.group.Group'>\n",
      "model_weights/rescaling_1 <class 'h5py._hl.group.Group'>\n",
      "model_weights/sequential <class 'h5py._hl.group.Group'>\n",
      "optimizer_weights <class 'h5py._hl.group.Group'>\n",
      "optimizer_weights/Adam <class 'h5py._hl.group.Group'>\n",
      "optimizer_weights/Adam/conv2d <class 'h5py._hl.group.Group'>\n",
      "optimizer_weights/Adam/conv2d/bias <class 'h5py._hl.group.Group'>\n",
      "optimizer_weights/Adam/conv2d/bias/m:0 <class 'h5py._hl.dataset.Dataset'>\n",
      "optimizer_weights/Adam/conv2d/bias/v:0 <class 'h5py._hl.dataset.Dataset'>\n",
      "optimizer_weights/Adam/conv2d/kernel <class 'h5py._hl.group.Group'>\n",
      "optimizer_weights/Adam/conv2d/kernel/m:0 <class 'h5py._hl.dataset.Dataset'>\n",
      "optimizer_weights/Adam/conv2d/kernel/v:0 <class 'h5py._hl.dataset.Dataset'>\n",
      "optimizer_weights/Adam/conv2d_1 <class 'h5py._hl.group.Group'>\n",
      "optimizer_weights/Adam/conv2d_1/bias <class 'h5py._hl.group.Group'>\n",
      "optimizer_weights/Adam/conv2d_1/bias/m:0 <class 'h5py._hl.dataset.Dataset'>\n",
      "optimizer_weights/Adam/conv2d_1/bias/v:0 <class 'h5py._hl.dataset.Dataset'>\n",
      "optimizer_weights/Adam/conv2d_1/kernel <class 'h5py._hl.group.Group'>\n",
      "optimizer_weights/Adam/conv2d_1/kernel/m:0 <class 'h5py._hl.dataset.Dataset'>\n",
      "optimizer_weights/Adam/conv2d_1/kernel/v:0 <class 'h5py._hl.dataset.Dataset'>\n",
      "optimizer_weights/Adam/conv2d_2 <class 'h5py._hl.group.Group'>\n",
      "optimizer_weights/Adam/conv2d_2/bias <class 'h5py._hl.group.Group'>\n",
      "optimizer_weights/Adam/conv2d_2/bias/m:0 <class 'h5py._hl.dataset.Dataset'>\n",
      "optimizer_weights/Adam/conv2d_2/bias/v:0 <class 'h5py._hl.dataset.Dataset'>\n",
      "optimizer_weights/Adam/conv2d_2/kernel <class 'h5py._hl.group.Group'>\n",
      "optimizer_weights/Adam/conv2d_2/kernel/m:0 <class 'h5py._hl.dataset.Dataset'>\n",
      "optimizer_weights/Adam/conv2d_2/kernel/v:0 <class 'h5py._hl.dataset.Dataset'>\n",
      "optimizer_weights/Adam/dense <class 'h5py._hl.group.Group'>\n",
      "optimizer_weights/Adam/dense/bias <class 'h5py._hl.group.Group'>\n",
      "optimizer_weights/Adam/dense/bias/m:0 <class 'h5py._hl.dataset.Dataset'>\n",
      "optimizer_weights/Adam/dense/bias/v:0 <class 'h5py._hl.dataset.Dataset'>\n",
      "optimizer_weights/Adam/dense/kernel <class 'h5py._hl.group.Group'>\n",
      "optimizer_weights/Adam/dense/kernel/m:0 <class 'h5py._hl.dataset.Dataset'>\n",
      "optimizer_weights/Adam/dense/kernel/v:0 <class 'h5py._hl.dataset.Dataset'>\n",
      "optimizer_weights/Adam/dense_1 <class 'h5py._hl.group.Group'>\n",
      "optimizer_weights/Adam/dense_1/bias <class 'h5py._hl.group.Group'>\n",
      "optimizer_weights/Adam/dense_1/bias/m:0 <class 'h5py._hl.dataset.Dataset'>\n",
      "optimizer_weights/Adam/dense_1/bias/v:0 <class 'h5py._hl.dataset.Dataset'>\n",
      "optimizer_weights/Adam/dense_1/kernel <class 'h5py._hl.group.Group'>\n",
      "optimizer_weights/Adam/dense_1/kernel/m:0 <class 'h5py._hl.dataset.Dataset'>\n",
      "optimizer_weights/Adam/dense_1/kernel/v:0 <class 'h5py._hl.dataset.Dataset'>\n",
      "optimizer_weights/Adam/iter:0 <class 'h5py._hl.dataset.Dataset'>\n"
     ]
    }
   ],
   "source": [
    "def print_structure(name, obj):\n",
    "    print(name, type(obj))\n",
    "\n",
    "with h5py.File(file, 'r') as f:\n",
    "    f.visititems(print_structure)\n"
   ]
  },
  {
   "cell_type": "code",
   "execution_count": null,
   "metadata": {},
   "outputs": [],
   "source": []
  }
 ],
 "metadata": {
  "kernelspec": {
   "display_name": "base",
   "language": "python",
   "name": "python3"
  },
  "language_info": {
   "codemirror_mode": {
    "name": "ipython",
    "version": 3
   },
   "file_extension": ".py",
   "mimetype": "text/x-python",
   "name": "python",
   "nbconvert_exporter": "python",
   "pygments_lexer": "ipython3",
   "version": "3.9.12"
  }
 },
 "nbformat": 4,
 "nbformat_minor": 2
}
