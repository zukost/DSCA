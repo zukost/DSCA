{
 "cells": [
  {
   "cell_type": "code",
   "execution_count": 30,
   "metadata": {},
   "outputs": [],
   "source": [
    "import h5py\n",
    "import numpy as np\n",
    "import matplotlib.pyplot as plt\n",
    "import pandas as pd"
   ]
  },
  {
   "cell_type": "markdown",
   "metadata": {},
   "source": [
    "# Approach 1"
   ]
  },
  {
   "cell_type": "code",
   "execution_count": 3,
   "metadata": {},
   "outputs": [
    {
     "name": "stdout",
     "output_type": "stream",
     "text": [
      "Keys: <KeysViewHDF5 ['model_weights', 'optimizer_weights']>\n",
      "['conv2d', 'conv2d_1', 'conv2d_2', 'dense', 'dense_1', 'dropout', 'flatten', 'max_pooling2d', 'max_pooling2d_1', 'max_pooling2d_2', 'rescaling_1', 'sequential']\n"
     ]
    }
   ],
   "source": [
    "file = 'gender_classification_v1.h5'\n",
    "with h5py.File(file, 'r') as f:\n",
    "    # List all groups\n",
    "    print(\"Keys: %s\" % f.keys())\n",
    "    a_group_key = list(f.keys())[0]\n",
    "\n",
    "    # Get the data\n",
    "    data = list(f[a_group_key])\n",
    "    print(data)"
   ]
  },
  {
   "cell_type": "code",
   "execution_count": 4,
   "metadata": {},
   "outputs": [
    {
     "name": "stdout",
     "output_type": "stream",
     "text": [
      "model_weights <class 'h5py._hl.group.Group'>\n",
      "model_weights/conv2d <class 'h5py._hl.group.Group'>\n",
      "model_weights/conv2d/conv2d <class 'h5py._hl.group.Group'>\n",
      "model_weights/conv2d/conv2d/bias:0 <class 'h5py._hl.dataset.Dataset'>\n",
      "model_weights/conv2d/conv2d/kernel:0 <class 'h5py._hl.dataset.Dataset'>\n",
      "model_weights/conv2d_1 <class 'h5py._hl.group.Group'>\n",
      "model_weights/conv2d_1/conv2d_1 <class 'h5py._hl.group.Group'>\n",
      "model_weights/conv2d_1/conv2d_1/bias:0 <class 'h5py._hl.dataset.Dataset'>\n",
      "model_weights/conv2d_1/conv2d_1/kernel:0 <class 'h5py._hl.dataset.Dataset'>\n",
      "model_weights/conv2d_2 <class 'h5py._hl.group.Group'>\n",
      "model_weights/conv2d_2/conv2d_2 <class 'h5py._hl.group.Group'>\n",
      "model_weights/conv2d_2/conv2d_2/bias:0 <class 'h5py._hl.dataset.Dataset'>\n",
      "model_weights/conv2d_2/conv2d_2/kernel:0 <class 'h5py._hl.dataset.Dataset'>\n",
      "model_weights/dense <class 'h5py._hl.group.Group'>\n",
      "model_weights/dense/dense <class 'h5py._hl.group.Group'>\n",
      "model_weights/dense/dense/bias:0 <class 'h5py._hl.dataset.Dataset'>\n",
      "model_weights/dense/dense/kernel:0 <class 'h5py._hl.dataset.Dataset'>\n",
      "model_weights/dense_1 <class 'h5py._hl.group.Group'>\n",
      "model_weights/dense_1/dense_1 <class 'h5py._hl.group.Group'>\n",
      "model_weights/dense_1/dense_1/bias:0 <class 'h5py._hl.dataset.Dataset'>\n",
      "model_weights/dense_1/dense_1/kernel:0 <class 'h5py._hl.dataset.Dataset'>\n",
      "model_weights/dropout <class 'h5py._hl.group.Group'>\n",
      "model_weights/flatten <class 'h5py._hl.group.Group'>\n",
      "model_weights/max_pooling2d <class 'h5py._hl.group.Group'>\n",
      "model_weights/max_pooling2d_1 <class 'h5py._hl.group.Group'>\n",
      "model_weights/max_pooling2d_2 <class 'h5py._hl.group.Group'>\n",
      "model_weights/rescaling_1 <class 'h5py._hl.group.Group'>\n",
      "model_weights/sequential <class 'h5py._hl.group.Group'>\n",
      "optimizer_weights <class 'h5py._hl.group.Group'>\n",
      "optimizer_weights/Adam <class 'h5py._hl.group.Group'>\n",
      "optimizer_weights/Adam/conv2d <class 'h5py._hl.group.Group'>\n",
      "optimizer_weights/Adam/conv2d/bias <class 'h5py._hl.group.Group'>\n",
      "optimizer_weights/Adam/conv2d/bias/m:0 <class 'h5py._hl.dataset.Dataset'>\n",
      "optimizer_weights/Adam/conv2d/bias/v:0 <class 'h5py._hl.dataset.Dataset'>\n",
      "optimizer_weights/Adam/conv2d/kernel <class 'h5py._hl.group.Group'>\n",
      "optimizer_weights/Adam/conv2d/kernel/m:0 <class 'h5py._hl.dataset.Dataset'>\n",
      "optimizer_weights/Adam/conv2d/kernel/v:0 <class 'h5py._hl.dataset.Dataset'>\n",
      "optimizer_weights/Adam/conv2d_1 <class 'h5py._hl.group.Group'>\n",
      "optimizer_weights/Adam/conv2d_1/bias <class 'h5py._hl.group.Group'>\n",
      "optimizer_weights/Adam/conv2d_1/bias/m:0 <class 'h5py._hl.dataset.Dataset'>\n",
      "optimizer_weights/Adam/conv2d_1/bias/v:0 <class 'h5py._hl.dataset.Dataset'>\n",
      "optimizer_weights/Adam/conv2d_1/kernel <class 'h5py._hl.group.Group'>\n",
      "optimizer_weights/Adam/conv2d_1/kernel/m:0 <class 'h5py._hl.dataset.Dataset'>\n",
      "optimizer_weights/Adam/conv2d_1/kernel/v:0 <class 'h5py._hl.dataset.Dataset'>\n",
      "optimizer_weights/Adam/conv2d_2 <class 'h5py._hl.group.Group'>\n",
      "optimizer_weights/Adam/conv2d_2/bias <class 'h5py._hl.group.Group'>\n",
      "optimizer_weights/Adam/conv2d_2/bias/m:0 <class 'h5py._hl.dataset.Dataset'>\n",
      "optimizer_weights/Adam/conv2d_2/bias/v:0 <class 'h5py._hl.dataset.Dataset'>\n",
      "optimizer_weights/Adam/conv2d_2/kernel <class 'h5py._hl.group.Group'>\n",
      "optimizer_weights/Adam/conv2d_2/kernel/m:0 <class 'h5py._hl.dataset.Dataset'>\n",
      "optimizer_weights/Adam/conv2d_2/kernel/v:0 <class 'h5py._hl.dataset.Dataset'>\n",
      "optimizer_weights/Adam/dense <class 'h5py._hl.group.Group'>\n",
      "optimizer_weights/Adam/dense/bias <class 'h5py._hl.group.Group'>\n",
      "optimizer_weights/Adam/dense/bias/m:0 <class 'h5py._hl.dataset.Dataset'>\n",
      "optimizer_weights/Adam/dense/bias/v:0 <class 'h5py._hl.dataset.Dataset'>\n",
      "optimizer_weights/Adam/dense/kernel <class 'h5py._hl.group.Group'>\n",
      "optimizer_weights/Adam/dense/kernel/m:0 <class 'h5py._hl.dataset.Dataset'>\n",
      "optimizer_weights/Adam/dense/kernel/v:0 <class 'h5py._hl.dataset.Dataset'>\n",
      "optimizer_weights/Adam/dense_1 <class 'h5py._hl.group.Group'>\n",
      "optimizer_weights/Adam/dense_1/bias <class 'h5py._hl.group.Group'>\n",
      "optimizer_weights/Adam/dense_1/bias/m:0 <class 'h5py._hl.dataset.Dataset'>\n",
      "optimizer_weights/Adam/dense_1/bias/v:0 <class 'h5py._hl.dataset.Dataset'>\n",
      "optimizer_weights/Adam/dense_1/kernel <class 'h5py._hl.group.Group'>\n",
      "optimizer_weights/Adam/dense_1/kernel/m:0 <class 'h5py._hl.dataset.Dataset'>\n",
      "optimizer_weights/Adam/dense_1/kernel/v:0 <class 'h5py._hl.dataset.Dataset'>\n",
      "optimizer_weights/Adam/iter:0 <class 'h5py._hl.dataset.Dataset'>\n"
     ]
    }
   ],
   "source": [
    "def print_structure(name, obj):\n",
    "    print(name, type(obj))\n",
    "\n",
    "with h5py.File(file, 'r') as f:\n",
    "    f.visititems(print_structure)\n"
   ]
  },
  {
   "cell_type": "code",
   "execution_count": 16,
   "metadata": {},
   "outputs": [],
   "source": [
    "# Open the HDF5 file\n",
    "file_path = 'gender_classification_v1.h5'\n",
    "with h5py.File(file_path, 'r') as file:\n",
    "    # Extract weights from a convolutional layer\n",
    "    conv1_weights = file['model_weights/conv2d/conv2d/kernel:0'][:]\n",
    "    conv1_bias = file['model_weights/conv2d/conv2d/bias:0'][:]\n",
    "\n",
    "    # Extract weights from a dense layer\n",
    "    # dense1_weights = file['model_weights/dense/dense/kernel:0'][:]\n",
    "    # dense1_bias = file['model_custom_weights/dense/dense/bias:0'][:]\n",
    "    dense1_weights = file['model_weights/dense_1/dense_1/kernel:0'][:]\n",
    "    dense1_bias = file['model_weights/dense_1/dense_1/bias:0'][:]"
   ]
  },
  {
   "cell_type": "code",
   "execution_count": 17,
   "metadata": {},
   "outputs": [
    {
     "data": {
      "image/png": "[encoded data removed]",
      "text/plain": [
       "<Figure size 432x288 with 1 Axes>"
      ]
     },
     "metadata": {
      "needs_background": "light"
     },
     "output_type": "display_data"
    }
   ],
   "source": [
    "# Showing weights distribution of the first convolutional layer\n",
    "plt.hist(conv1_weights.flatten(), bins=50, alpha=0.75)\n",
    "plt.title('Distribution of Weights - Conv1 Layer')\n",
    "plt.xlabel('Weight Value')\n",
    "plt.ylabel('Frequency')\n",
    "plt.show()"
   ]
  },
  {
   "cell_type": "code",
   "execution_count": 18,
   "metadata": {},
   "outputs": [
    {
     "data": {
      "image/png": "[encoded data removed]",
      "text/plain": [
       "<Figure size 432x288 with 1 Axes>"
      ]
     },
     "metadata": {
      "needs_background": "light"
     },
     "output_type": "display_data"
    }
   ],
   "source": [
    "# Showing biases for the same layer\n",
    "plt.hist(conv1_bias.flatten(), bins=50, alpha=0.75, color='red')\n",
    "plt.title('Distribution of Biases - Conv1 Layer')\n",
    "plt.xlabel('Bias Value')\n",
    "plt.ylabel('Frequency')\n",
    "plt.show()"
   ]
  },
  {
   "cell_type": "code",
   "execution_count": 19,
   "metadata": {},
   "outputs": [
    {
     "data": {
      "image/png": "[encoded data removed]",
      "text/plain": [
       "<Figure size 432x288 with 1 Axes>"
      ]
     },
     "metadata": {
      "needs_background": "light"
     },
     "output_type": "display_data"
    }
   ],
   "source": [
    "# Plotting for the dense layer\n",
    "plt.hist(dense1_weights.flatten(), bins=50, alpha=0.75)\n",
    "plt.title('Distribution of Weights - Dense1 Layer')\n",
    "plt.xlabel('Weight Value')\n",
    "plt.ylabel('Frequency')\n",
    "plt.show()"
   ]
  },
  {
   "cell_type": "code",
   "execution_count": 20,
   "metadata": {},
   "outputs": [
    {
     "data": {
      "image/png": "[encoded data removed]",
      "text/plain": [
       "<Figure size 432x288 with 1 Axes>"
      ]
     },
     "metadata": {
      "needs_background": "light"
     },
     "output_type": "display_data"
    }
   ],
   "source": [
    "plt.hist(dense1_bias.flatten(), bins=50, alpha=0.75, color='green')\n",
    "plt.title('Distribution of Biases - Dense1 Layer')\n",
    "plt.xlabel('Bias Value')\n",
    "plt.ylabel('Frequency')\n",
    "plt.show()"
   ]
  },
  {
   "cell_type": "markdown",
   "metadata": {},
   "source": [
    "# Approach 2"
   ]
  },
  {
   "cell_type": "code",
   "execution_count": 28,
   "metadata": {},
   "outputs": [],
   "source": [
    "layer_types = {}\n",
    "with h5py.File(file_path, 'r') as file:\n",
    "    # Collect names and sizes (number of parameters) of each layer by type\n",
    "    for layer_key in file['model_weights'].keys():\n",
    "        # Identify layer type from the layer name\n",
    "        layer_type = layer_key.split('_')[0]  # e.g., 'conv', 'dense', 'flatten', 'dropout'\n",
    "        # Checking if there are kernels (trainable parameters) to count\n",
    "        if list(file[f'model_weights/{layer_key}'].keys()):\n",
    "            weights_key = list(file[f'model_weights/{layer_key}'].keys())[0]\n",
    "            if 'kernel:0' in file[f'model_weights/{layer_key}/{weights_key}']:\n",
    "                weights = file[f'model_weights/{layer_key}/{weights_key}/kernel:0'][:]\n",
    "                # Summing parameters by type\n",
    "                if layer_type in layer_types:\n",
    "                    layer_types[layer_type] += weights.size\n",
    "                else:\n",
    "                    layer_types[layer_type] = weights.size\n"
   ]
  },
  {
   "cell_type": "markdown",
   "metadata": {},
   "source": [
    "### Plot 1"
   ]
  },
  {
   "cell_type": "code",
   "execution_count": 29,
   "metadata": {},
   "outputs": [
    {
     "data": {
      "image/png": "[encoded data removed]",
      "text/plain": [
       "<Figure size 720x432 with 1 Axes>"
      ]
     },
     "metadata": {
      "needs_background": "light"
     },
     "output_type": "display_data"
    }
   ],
   "source": [
    "\n",
    "# Data for plotting\n",
    "labels = list(layer_types.keys())\n",
    "sizes = list(layer_types.values())\n",
    "\n",
    "plt.figure(figsize=(10, 6))\n",
    "plt.bar(labels, sizes, color=['blue', 'green', 'red', 'purple', 'orange'])\n",
    "plt.ylabel('Total Number of Parameters')\n",
    "plt.title('Parameter Distribution by Layer Type')\n",
    "plt.show()\n"
   ]
  },
  {
   "cell_type": "code",
   "execution_count": 31,
   "metadata": {},
   "outputs": [],
   "source": [
    "# Convert the dictionary to a DataFrame\n",
    "df = pd.DataFrame(list(layer_types.items()), columns=['Layer Type', 'Number of Parameters'])\n",
    "\n",
    "# Save the DataFrame to CSV\n",
    "df.to_csv('model_layer_parameters.csv', index=False)"
   ]
  },
  {
   "cell_type": "markdown",
   "metadata": {},
   "source": [
    "### Plot 2"
   ]
  },
  {
   "cell_type": "code",
   "execution_count": 34,
   "metadata": {},
   "outputs": [
    {
     "data": {
      "image/png": "[encoded data removed]",
      "text/plain": [
       "<Figure size 720x432 with 1 Axes>"
      ]
     },
     "metadata": {
      "needs_background": "light"
     },
     "output_type": "display_data"
    }
   ],
   "source": [
    "momentums = []\n",
    "velocities = []\n",
    "layer_labels = []\n",
    "\n",
    "with h5py.File(file_path, 'r') as file:\n",
    "    # Iterate over convolutional layers to collect optimizer data\n",
    "    for layer in ['conv2d', 'conv2d_1', 'conv2d_2']:\n",
    "        if 'Adam' in file['optimizer_weights']:\n",
    "            # Momentum\n",
    "            m_key = f'optimizer_weights/Adam/{layer}/kernel/m:0'\n",
    "            if m_key in file:\n",
    "                m_data = file[m_key][:]\n",
    "                avg_momentum = np.mean(m_data)\n",
    "                momentums.append(avg_momentum)\n",
    "            \n",
    "            # Velocity\n",
    "            v_key = f'optimizer_weights/Adam/{layer}/kernel/v:0'\n",
    "            if v_key in file:\n",
    "                v_data = file[v_key][:]\n",
    "                avg_velocity = np.mean(v_data)\n",
    "                velocities.append(avg_velocity)\n",
    "            \n",
    "            layer_labels.append(layer)\n",
    "\n",
    "# Plotting\n",
    "plt.figure(figsize=(10, 6))\n",
    "width = 0.35  # the width of the bars\n",
    "indices = np.arange(len(momentums))\n",
    "\n",
    "plt.bar(indices - width/2, momentums, width, label='Momentum', color='blue')\n",
    "plt.bar(indices + width/2, velocities, width,  label='Velocity', color='green')\n",
    "\n",
    "plt.xlabel('Layers')\n",
    "plt.ylabel('Average Value')\n",
    "plt.title('Average Momentum and Velocity in Adam Optimizer by Layer')\n",
    "plt.xticks(indices, layer_labels)\n",
    "plt.legend()\n",
    "\n",
    "plt.show()\n"
   ]
  },
  {
   "cell_type": "code",
   "execution_count": 41,
   "metadata": {},
   "outputs": [],
   "source": [
    "# Data containers\n",
    "data = {\n",
    "    'Layer': [],\n",
    "    'Momentum': [],\n",
    "    'Velocity': []\n",
    "}\n",
    "\n",
    "# Open the HDF5 file\n",
    "with h5py.File(file_path, 'r') as file:\n",
    "    # Iterate over the layers for which you want to extract the data\n",
    "    layers = ['conv2d', 'conv2d_1', 'conv2d_2']\n",
    "    for layer in layers:\n",
    "        # Construct the path to the momentum and velocity datasets\n",
    "        m_key = f'optimizer_weights/Adam/{layer}/bias/m:0'\n",
    "        v_key = f'optimizer_weights/Adam/{layer}/bias/v:0'\n",
    "        \n",
    "        # Check if the paths exist in the file\n",
    "        if m_key in file and v_key in file:\n",
    "            # Extract momentum and velocity data\n",
    "            momentum = np.mean(file[m_key][:])\n",
    "            velocity = np.mean(file[v_key][:])\n",
    "            \n",
    "            # Append the data to the respective lists\n",
    "            data['Layer'].append(layer)\n",
    "            data['Momentum'].append(momentum)\n",
    "            data['Velocity'].append(velocity)\n",
    "\n",
    "# Convert the dictionary to a DataFrame\n",
    "df = pd.DataFrame(data)\n",
    "\n",
    "# Save the DataFrame to a CSV file\n",
    "df.to_csv('adam_optimizer.csv', index=False)\n"
   ]
  },
  {
   "cell_type": "markdown",
   "metadata": {},
   "source": [
    "### Plot 3"
   ]
  },
  {
   "cell_type": "code",
   "execution_count": 39,
   "metadata": {},
   "outputs": [
    {
     "data": {
      "image/png": "[encoded data removed]",
      "text/plain": [
       "<Figure size 432x288 with 3 Axes>"
      ]
     },
     "metadata": {
      "needs_background": "light"
     },
     "output_type": "display_data"
    }
   ],
   "source": [
    "# Open the HDF5 file\n",
    "with h5py.File(file_path, 'r') as file:\n",
    "    # We'll plot histograms for the first three convolutional layers\n",
    "    layers = ['conv2d', 'conv2d_1', 'conv2d_2']\n",
    "    for i, layer in enumerate(layers, 1):\n",
    "        # Access the kernel weights\n",
    "        weights_key = f'model_weights/{layer}/{layer}/kernel:0'\n",
    "        if weights_key in file:\n",
    "            weights = file[weights_key][:]\n",
    "            # Create a subplot for each layer's weights\n",
    "            plt.subplot(1, 3, i)\n",
    "            plt.hist(weights.flatten(), bins=50, color='blue', alpha=0.7)\n",
    "            plt.title(f'Weights Distribution in {layer}')\n",
    "            plt.xlabel('Weight Value')\n",
    "            plt.ylabel('Frequency')\n",
    "\n",
    "# Display the plot\n",
    "plt.subplots_adjust(left=0.05, right=0.95, wspace=0.35, hspace=0.35)\n",
    "plt.tight_layout()\n",
    "plt.show()"
   ]
  },
  {
   "cell_type": "code",
   "execution_count": 42,
   "metadata": {},
   "outputs": [],
   "source": [
    "# Open the HDF5 file\n",
    "with h5py.File(file_path, 'r') as file:\n",
    "    # Data dictionary to hold weight data\n",
    "    data = {'Layer': [], 'Weights': []}\n",
    "    \n",
    "    # We'll extract weights for the first three convolutional layers\n",
    "    layers = ['conv2d', 'conv2d_1', 'conv2d_2']\n",
    "    for layer in layers:\n",
    "        # Access the kernel weights\n",
    "        weights_key = f'model_weights/{layer}/{layer}/kernel:0'\n",
    "        if weights_key in file:\n",
    "            weights = file[weights_key][:]\n",
    "            # Flatten the weights and store them with corresponding layer name\n",
    "            data['Layer'].extend([layer] * len(weights.flatten()))\n",
    "            data['Weights'].extend(weights.flatten())\n",
    "\n",
    "# Convert the dictionary to a DataFrame\n",
    "df = pd.DataFrame(data)\n",
    "\n",
    "# Save the DataFrame to a CSV file\n",
    "df.to_csv('weight_distributions.csv', index=False)\n"
   ]
  },
  {
   "cell_type": "markdown",
   "metadata": {},
   "source": [
    "### Plot 4"
   ]
  },
  {
   "cell_type": "code",
   "execution_count": 43,
   "metadata": {},
   "outputs": [
    {
     "data": {
      "image/png": "[encoded data removed]",
      "text/plain": [
       "<Figure size 432x288 with 3 Axes>"
      ]
     },
     "metadata": {
      "needs_background": "light"
     },
     "output_type": "display_data"
    }
   ],
   "source": [
    "# Open the HDF5 file\n",
    "with h5py.File(file_path, 'r') as file:\n",
    "    # Specify the convolutional layers to plot\n",
    "    layers = ['conv2d', 'conv2d_1', 'conv2d_2']\n",
    "    for i, layer in enumerate(layers, 1):\n",
    "        # Access the bias values\n",
    "        bias_key = f'model_weights/{layer}/{layer}/bias:0'\n",
    "        if bias_key in file:\n",
    "            biases = file[bias_key][:]\n",
    "            # Create a subplot for each layer's bias distribution\n",
    "            plt.subplot(1, 3, i)\n",
    "            plt.hist(biases.flatten(), bins=50, color='green', alpha=0.7)\n",
    "            plt.title(f'Bias Distribution in {layer}')\n",
    "            plt.xlabel('Bias Value')\n",
    "            plt.ylabel('Frequency')\n",
    "\n",
    "# Adjust layout to ensure no overlap\n",
    "plt.tight_layout()\n",
    "plt.show()\n"
   ]
  },
  {
   "cell_type": "markdown",
   "metadata": {},
   "source": [
    "### Plot 5"
   ]
  },
  {
   "cell_type": "code",
   "execution_count": 47,
   "metadata": {},
   "outputs": [
    {
     "data": {
      "image/png": "[encoded data removed]",
      "text/plain": [
       "<Figure size 1080x576 with 1 Axes>"
      ]
     },
     "metadata": {
      "needs_background": "light"
     },
     "output_type": "display_data"
    }
   ],
   "source": [
    "import h5py\n",
    "import numpy as np\n",
    "import matplotlib.pyplot as plt\n",
    "\n",
    "# Path to the HDF5 file\n",
    "file_path = 'gender_classification_v1.h5'\n",
    "\n",
    "# Initialize lists to store layer names and their norms\n",
    "layer_names = []\n",
    "weight_norms = []\n",
    "bias_norms = []\n",
    "\n",
    "# Open the HDF5 file\n",
    "with h5py.File(file_path, 'r') as file:\n",
    "    # Loop through layers to calculate norms\n",
    "    for layer_key in file['model_weights'].keys():\n",
    "        layer_group = file['model_weights'][layer_key]\n",
    "        \n",
    "        # Initialize norms\n",
    "        weight_norm = None\n",
    "        bias_norm = None\n",
    "        \n",
    "        # Check if the layer has weights\n",
    "        for key in layer_group.keys():\n",
    "            if 'kernel:0' in layer_group[key]:\n",
    "                weights = layer_group[key]['kernel:0'][:]\n",
    "                weight_norm = np.linalg.norm(weights)\n",
    "            if 'bias:0' in layer_group[key]:\n",
    "                biases = layer_group[key]['bias:0'][:]\n",
    "                bias_norm = np.linalg.norm(biases)\n",
    "        \n",
    "        # Only append if norms were found\n",
    "        if weight_norm is not None or bias_norm is not None:\n",
    "            layer_names.append(layer_key)\n",
    "            weight_norms.append(weight_norm if weight_norm is not None else 0)\n",
    "            bias_norms.append(bias_norm if bias_norm is not None else 0)\n",
    "\n",
    "# Plotting\n",
    "plt.figure(figsize=(15, 8))\n",
    "index = np.arange(len(layer_names))\n",
    "bar_width = 0.35\n",
    "\n",
    "plt.bar(index, weight_norms, bar_width, label='Weight Norms', alpha=0.8)\n",
    "plt.bar(index + bar_width, bias_norms, bar_width, label='Bias Norms', alpha=0.8)\n",
    "\n",
    "plt.xlabel('Layers')\n",
    "plt.ylabel('L2 Norm')\n",
    "plt.title('L2 Norms of Weights and Biases Across Layers')\n",
    "plt.xticks(index + bar_width / 2, layer_names, rotation=90)\n",
    "plt.legend()\n",
    "plt.tight_layout()  # Adjust subplots to give room for labels\n",
    "\n",
    "plt.show()\n"
   ]
  },
  {
   "cell_type": "code",
   "execution_count": 48,
   "metadata": {},
   "outputs": [],
   "source": [
    "import h5py\n",
    "import numpy as np\n",
    "import pandas as pd\n",
    "\n",
    "# Path to the HDF5 file\n",
    "file_path = 'gender_classification_v1.h5'\n",
    "\n",
    "# Initialize lists to store layer names and their norms\n",
    "layer_names = []\n",
    "weight_norms = []\n",
    "bias_norms = []\n",
    "\n",
    "# Open the HDF5 file\n",
    "with h5py.File(file_path, 'r') as file:\n",
    "    # Loop through layers to calculate norms\n",
    "    for layer_key in file['model_weights'].keys():\n",
    "        layer_group = file['model_weights'][layer_key]\n",
    "        \n",
    "        # Initialize norms\n",
    "        weight_norm = None\n",
    "        bias_norm = None\n",
    "        \n",
    "        # Check if the layer has weights\n",
    "        for key in layer_group.keys():\n",
    "            if 'kernel:0' in layer_group[key]:\n",
    "                weights = layer_group[key]['kernel:0'][:]\n",
    "                weight_norm = np.linalg.norm(weights)\n",
    "            if 'bias:0' in layer_group[key]:\n",
    "                biases = layer_group[key]['bias:0'][:]\n",
    "                bias_norm = np.linalg.norm(biases)\n",
    "        \n",
    "        # Only append if norms were found\n",
    "        if weight_norm is not None or bias_norm is not None:\n",
    "            layer_names.append(layer_key)\n",
    "            weight_norms.append(weight_norm if weight_norm is not None else 0)\n",
    "            bias_norms.append(bias_norm if bias_norm is not None else 0)\n",
    "\n",
    "# Prepare the data for CSV\n",
    "data = {\n",
    "    'Layer': layer_names,\n",
    "    'Weight Norm': weight_norms,\n",
    "    'Bias Norm': bias_norms\n",
    "}\n",
    "\n",
    "# Convert to DataFrame\n",
    "df = pd.DataFrame(data)\n",
    "\n",
    "# Specify the path for the CSV file\n",
    "csv_file_path = 'L2_norms.csv'\n",
    "\n",
    "# Save the DataFrame to a CSV file\n",
    "df.to_csv(csv_file_path, index=False)\n",
    "\n"
   ]
  },
  {
   "cell_type": "code",
   "execution_count": null,
   "metadata": {},
   "outputs": [],
   "source": []
  }
 ],
 "metadata": {
  "kernelspec": {
   "display_name": "base",
   "language": "python",
   "name": "python3"
  },
  "language_info": {
   "codemirror_mode": {
    "name": "ipython",
    "version": 3
   },
   "file_extension": ".py",
   "mimetype": "text/x-python",
   "name": "python",
   "nbconvert_exporter": "python",
   "pygments_lexer": "ipython3",
   "version": "3.9.12"
  }
 },
 "nbformat": 4,
 "nbformat_minor": 2
}
